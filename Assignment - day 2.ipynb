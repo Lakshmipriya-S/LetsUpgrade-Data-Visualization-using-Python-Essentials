{
 "cells": [
  {
   "cell_type": "markdown",
   "id": "b1839652",
   "metadata": {},
   "source": [
    "### Import libraries"
   ]
  },
  {
   "cell_type": "code",
   "execution_count": 1,
   "id": "a00442c9",
   "metadata": {},
   "outputs": [],
   "source": [
    "import matplotlib.pyplot as plt\n",
    "import pandas as pd\n",
    "from numpy.random import randint,randn,uniform,sample\n",
    "import numpy as np"
   ]
  },
  {
   "cell_type": "markdown",
   "id": "d004048f",
   "metadata": {},
   "source": [
    "### Creating a data frame of random number in 10 rows and 4 columns"
   ]
  },
  {
   "cell_type": "code",
   "execution_count": 2,
   "id": "e1470304",
   "metadata": {},
   "outputs": [
    {
     "data": {
      "text/html": [
       "<div>\n",
       "<style scoped>\n",
       "    .dataframe tbody tr th:only-of-type {\n",
       "        vertical-align: middle;\n",
       "    }\n",
       "\n",
       "    .dataframe tbody tr th {\n",
       "        vertical-align: top;\n",
       "    }\n",
       "\n",
       "    .dataframe thead th {\n",
       "        text-align: right;\n",
       "    }\n",
       "</style>\n",
       "<table border=\"1\" class=\"dataframe\">\n",
       "  <thead>\n",
       "    <tr style=\"text-align: right;\">\n",
       "      <th></th>\n",
       "      <th>a</th>\n",
       "      <th>b</th>\n",
       "      <th>c</th>\n",
       "      <th>d</th>\n",
       "    </tr>\n",
       "  </thead>\n",
       "  <tbody>\n",
       "    <tr>\n",
       "      <th>0</th>\n",
       "      <td>1.113014</td>\n",
       "      <td>-0.712283</td>\n",
       "      <td>0.515367</td>\n",
       "      <td>-1.247482</td>\n",
       "    </tr>\n",
       "    <tr>\n",
       "      <th>1</th>\n",
       "      <td>-0.479212</td>\n",
       "      <td>0.350776</td>\n",
       "      <td>0.774229</td>\n",
       "      <td>0.301254</td>\n",
       "    </tr>\n",
       "    <tr>\n",
       "      <th>2</th>\n",
       "      <td>0.612330</td>\n",
       "      <td>-1.393596</td>\n",
       "      <td>0.961367</td>\n",
       "      <td>-0.642502</td>\n",
       "    </tr>\n",
       "    <tr>\n",
       "      <th>3</th>\n",
       "      <td>-0.965085</td>\n",
       "      <td>-0.668197</td>\n",
       "      <td>1.229849</td>\n",
       "      <td>-0.587815</td>\n",
       "    </tr>\n",
       "    <tr>\n",
       "      <th>4</th>\n",
       "      <td>-0.333309</td>\n",
       "      <td>-0.620067</td>\n",
       "      <td>0.833977</td>\n",
       "      <td>0.404035</td>\n",
       "    </tr>\n",
       "    <tr>\n",
       "      <th>5</th>\n",
       "      <td>0.430652</td>\n",
       "      <td>0.977074</td>\n",
       "      <td>2.390739</td>\n",
       "      <td>-0.449360</td>\n",
       "    </tr>\n",
       "    <tr>\n",
       "      <th>6</th>\n",
       "      <td>-0.340530</td>\n",
       "      <td>-1.451758</td>\n",
       "      <td>-1.427980</td>\n",
       "      <td>-0.356819</td>\n",
       "    </tr>\n",
       "    <tr>\n",
       "      <th>7</th>\n",
       "      <td>1.136503</td>\n",
       "      <td>0.801171</td>\n",
       "      <td>0.393479</td>\n",
       "      <td>0.534628</td>\n",
       "    </tr>\n",
       "    <tr>\n",
       "      <th>8</th>\n",
       "      <td>-0.666852</td>\n",
       "      <td>-0.289559</td>\n",
       "      <td>-0.007002</td>\n",
       "      <td>-0.695900</td>\n",
       "    </tr>\n",
       "    <tr>\n",
       "      <th>9</th>\n",
       "      <td>-0.356923</td>\n",
       "      <td>-0.200207</td>\n",
       "      <td>1.190602</td>\n",
       "      <td>-0.865203</td>\n",
       "    </tr>\n",
       "  </tbody>\n",
       "</table>\n",
       "</div>"
      ],
      "text/plain": [
       "          a         b         c         d\n",
       "0  1.113014 -0.712283  0.515367 -1.247482\n",
       "1 -0.479212  0.350776  0.774229  0.301254\n",
       "2  0.612330 -1.393596  0.961367 -0.642502\n",
       "3 -0.965085 -0.668197  1.229849 -0.587815\n",
       "4 -0.333309 -0.620067  0.833977  0.404035\n",
       "5  0.430652  0.977074  2.390739 -0.449360\n",
       "6 -0.340530 -1.451758 -1.427980 -0.356819\n",
       "7  1.136503  0.801171  0.393479  0.534628\n",
       "8 -0.666852 -0.289559 -0.007002 -0.695900\n",
       "9 -0.356923 -0.200207  1.190602 -0.865203"
      ]
     },
     "execution_count": 2,
     "metadata": {},
     "output_type": "execute_result"
    }
   ],
   "source": [
    "df = pd.DataFrame(randn(10,4),columns=['a','b','c','d'])\n",
    "df"
   ]
  },
  {
   "cell_type": "markdown",
   "id": "1909fea5",
   "metadata": {},
   "source": [
    "### Creating a bar graph for all the columns "
   ]
  },
  {
   "cell_type": "code",
   "execution_count": 3,
   "id": "917679b0",
   "metadata": {},
   "outputs": [
    {
     "data": {
      "text/plain": [
       "Text(0.5, 1.0, 'Bar graph')"
      ]
     },
     "execution_count": 3,
     "metadata": {},
     "output_type": "execute_result"
    },
    {
     "data": {
      "image/png": "[encoded data removed]",
      "text/plain": [
       "<Figure size 720x504 with 1 Axes>"
      ]
     },
     "metadata": {},
     "output_type": "display_data"
    }
   ],
   "source": [
    "plt.style.use('fivethirtyeight')\n",
    "df.plot(kind='bar',grid=True,figsize=(10,7))\n",
    "plt.ylabel('Random numbers')\n",
    "plt.xlabel('Columns')\n",
    "plt.title('Bar graph')\n",
    "\n"
   ]
  },
  {
   "cell_type": "code",
   "execution_count": null,
   "id": "6b3afd97",
   "metadata": {},
   "outputs": [],
   "source": []
  }
 ],
 "metadata": {
  "kernelspec": {
   "display_name": "Python 3",
   "language": "python",
   "name": "python3"
  },
  "language_info": {
   "codemirror_mode": {
    "name": "ipython",
    "version": 3
   },
   "file_extension": ".py",
   "mimetype": "text/x-python",
   "name": "python",
   "nbconvert_exporter": "python",
   "pygments_lexer": "ipython3",
   "version": "3.8.10"
  }
 },
 "nbformat": 4,
 "nbformat_minor": 5
}
